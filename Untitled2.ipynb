{
 "cells": [
  {
   "cell_type": "code",
   "execution_count": 6,
   "id": "4e7c4239",
   "metadata": {},
   "outputs": [],
   "source": [
    "import pickle\n",
    "with open(\"model_pickle\",\"rb\") as f:\n",
    "    mp = pickle.load(f)\n",
    "    \n",
    "def prediction(AREA, INT_SQFT, N_BEDROOM, N_BATHROOM, N_ROOM, SALE_COND,\n",
    "       PARK_FACIL, UTILITY_AVAIL, STREET, MZZONE,\n",
    "       BUILDTYPE_Commercial, BUILDTYPE_House, BUILDTYPE_Others):  \n",
    "    X_test1 =[[AREA, INT_SQFT, N_BEDROOM, N_BATHROOM, N_ROOM, SALE_COND,\n",
    "       PARK_FACIL, UTILITY_AVAIL, STREET, MZZONE,\n",
    "       BUILDTYPE_Commercial, BUILDTYPE_House, BUILDTYPE_Others]]\n",
    "    prediction = mp.predict(X_test1)\n",
    "    print(prediction)\n",
    "    return prediction"
   ]
  },
  {
   "cell_type": "code",
   "execution_count": 7,
   "id": "46cd6c24",
   "metadata": {},
   "outputs": [],
   "source": [
    "import streamlit as st"
   ]
  },
  {
   "cell_type": "code",
   "execution_count": 8,
   "id": "17d2c651",
   "metadata": {},
   "outputs": [],
   "source": [
    "def main():\n",
    "    st.title(\"Chennai House Prediction\")\n",
    "    Area = st.selectbox(\"Area:\",['Karapakkam', 'Anna Nagar', 'Adyar', 'Velchery', 'Chormpet',\n",
    "       'KK Nagar', 'T Nagar'])\n",
    "    Areaencoding = {\"Karapakkam\":0,\"Adyar\":1,\"Chormpet\":2,\"Velchery\":3,\"KK Nagar\":4,\"Anna Nagar\":5,\"T Nagar\":6}\n",
    "    AREA = Areaencoding[Area]\n",
    "    st.success(Area)\n",
    "    INT_SQFT = st.number_input(\"Enter Squarefeet of house\")\n",
    "    N_BEDROOM = st.number_input(\"Enter number of bedroom as a whole number\")\n",
    "    N_BATHROOM = st.number_input(\"Enter number of bathroom as a whole number\")\n",
    "    N_ROOM = st.number_input(\"Enter number of room as a whole number\")\n",
    "    salecondition = st.selectbox(\"Sale_condtion\",['Ab Normal', 'Family', 'Partial', 'Adj Land', 'Normal Sale'])\n",
    "    saleencoding = {\"Partial\":0,\"Family\":1,\"Ab Normal\":2,\"Normal Sale\":3,\"Adj Land\":4}\n",
    "    SALE_COND = saleencoding[salecondition]\n",
    "    st.success(salecondition)\n",
    "    status = st.radio(\"Parking Facility: \", ('Yes', 'No'))\n",
    "    if (status == 'yes'):\n",
    "        st.success(\"yes\")\n",
    "        PARK_FACIL = 1\n",
    "    else:\n",
    "        st.success(\"No\")\n",
    "        PARK_FACIL = 0\n",
    "        \n",
    "    utility_avail = {\"ELO\":0,\"NoSeWa\":1,\"NoSewr \":2,\"AllPub\":3}\n",
    "    utility = st.selectbox(\"Utility Available: \",[\"ELO\",\"NoSeWa\",\"NoSewr \",\"AllPub\"])\n",
    "    UTILITY_AVAIL = utility_avail[utility]\n",
    "    street = {\"No Access\":0,\"Paved\":1,\"Gravel\":2}\n",
    "    value = st.selectbox(\"Street: \",[\"No Access\",\"Paved\",\"Gravel\"])\n",
    "    STREET = street[value]\n",
    "    Mzzone = {\"A\":0,\"C\":1,\"I\":2,\"RH\":3,\"RL\":4,\"RM\":5}\n",
    "    zvalue = st.selectbox(\"Mzzone: \",[\"A\",\"C\",\"I\",\"RH\",\"RL\",\"RM\"])\n",
    "    MZZONE = Mzzone[zvalue]\n",
    "    \n",
    "    BuildType = st.selectbox(\"Build Type: \",[\"House\",\"commercial\",\"others\"])\n",
    "    if BuildType == \"House\":\n",
    "        BUILDTYPE_House = 1\n",
    "        BUILDTYPE_Commercial = 0 \n",
    "        BUILDTYPE_Others = 0\n",
    "    elif BuildType == \"commercial\":\n",
    "        BUILDTYPE_House = 0\n",
    "        BUILDTYPE_Commercial = 1\n",
    "        BUILDTYPE_Others = 0\n",
    "    else:\n",
    "        BUILDTYPE_House = 0\n",
    "        BUILDTYPE_Commercial = 0 \n",
    "        BUILDTYPE_Others = 1\n",
    "    result =\"\"\n",
    "    if st.button(\"Predict\"):\n",
    "        result = prediction(AREA, INT_SQFT, N_BEDROOM, N_BATHROOM, N_ROOM, SALE_COND,\n",
    "       PARK_FACIL, UTILITY_AVAIL, STREET, MZZONE,\n",
    "       BUILDTYPE_Commercial, BUILDTYPE_House, BUILDTYPE_Others)\n",
    "    st.success('The output is {}'.format(result))\n",
    "        \n",
    "main()       \n"
   ]
  },
  {
   "cell_type": "code",
   "execution_count": null,
   "id": "69cbc977",
   "metadata": {},
   "outputs": [],
   "source": []
  }
 ],
 "metadata": {
  "kernelspec": {
   "display_name": "Python 3 (ipykernel)",
   "language": "python",
   "name": "python3"
  },
  "language_info": {
   "codemirror_mode": {
    "name": "ipython",
    "version": 3
   },
   "file_extension": ".py",
   "mimetype": "text/x-python",
   "name": "python",
   "nbconvert_exporter": "python",
   "pygments_lexer": "ipython3",
   "version": "3.9.7"
  }
 },
 "nbformat": 4,
 "nbformat_minor": 5
}
